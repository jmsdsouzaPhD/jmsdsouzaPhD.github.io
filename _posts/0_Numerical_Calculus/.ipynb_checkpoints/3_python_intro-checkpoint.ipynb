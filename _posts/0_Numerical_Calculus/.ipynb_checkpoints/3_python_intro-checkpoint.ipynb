{
 "cells": [
  {
   "cell_type": "markdown",
   "id": "68dcea45-5a67-464b-89df-079b36e22143",
   "metadata": {
    "tags": []
   },
   "source": [
    "# 3. Introdução ao Python: Listas, Vetores, Matrizes e Biblioteca Numpy."
   ]
  },
  {
   "cell_type": "markdown",
   "id": "54d1cefc-58df-4d2b-b8b7-890bb0c57232",
   "metadata": {},
   "source": [
    "<html>\n",
    "<p style=\"background-color: rgb(245,245,245); padding: 1%\">\n",
    "Neste tutorial vamos trabalhar com as listas, vetores, matrizes. Além disso iremos aprender um pouco sobre as ferramentas disponíveis na biblioteca <b>Numpy</b>\n",
    "</p>\n",
    "</html>"
   ]
  },
  {
   "cell_type": "markdown",
   "id": "8dd1150d-2886-4cf5-b5e4-9526687968ab",
   "metadata": {},
   "source": [
    "## 2.1 Listas"
   ]
  },
  {
   "cell_type": "markdown",
   "id": "20a82cf1",
   "metadata": {},
   "source": [
    "<html>\n",
    "<p style=\"background-color: rgb(245,245,245); padding: 1%\">\n",
    "Listas são conjuntos que podem armazenar os diferentes tipos de variáveis que já tratamos até aqui.\n",
    "Essas listas podem ter tantos elementos quanto desejarmos. Para criarmos uma lista basta abrirmos uma dupla de colchetes <b>[...]</b> entre os quais nós inserimos nossas variáveis separadas por vírgulas. Por exemplo:<br/>\n",
    "</p>\n",
    "</html>"
   ]
  },
  {
   "cell_type": "code",
   "execution_count": 38,
   "id": "e65f9dbb",
   "metadata": {},
   "outputs": [
    {
     "data": {
      "text/plain": [
       "list"
      ]
     },
     "execution_count": 38,
     "metadata": {},
     "output_type": "execute_result"
    }
   ],
   "source": [
    "A = [\"texto\", 1, 3.45, True, 7, 8, 3.14] # A nossa lista pode ter qualquer nome. Aqui escolhemos A.\n",
    "type(A) # Vamos confirmar que nossa variável chamada A recebeu uma lista"
   ]
  },
  {
   "cell_type": "markdown",
   "id": "491bda33",
   "metadata": {},
   "source": [
    "<html>\n",
    "<p style=\"background-color: rgb(245,245,245); padding: 1%\">\n",
    "Vamos agora usar o comando <b>for</b> aprendido na última aula para verificarmos o tipo de cada elemento dentro da nossa lista:\n",
    "</p>\n",
    "</html>"
   ]
  },
  {
   "cell_type": "code",
   "execution_count": 20,
   "id": "33e54297",
   "metadata": {},
   "outputs": [
    {
     "name": "stdout",
     "output_type": "stream",
     "text": [
      "Elemento ( texto )\t tipo de variável:  <class 'str'> \n",
      "\n",
      "Elemento ( 1 )\t tipo de variável:  <class 'int'> \n",
      "\n",
      "Elemento ( 3.45 )\t tipo de variável:  <class 'float'> \n",
      "\n",
      "Elemento ( True )\t tipo de variável:  <class 'bool'> \n",
      "\n",
      "Elemento ( 7 )\t tipo de variável:  <class 'int'> \n",
      "\n",
      "Elemento ( 8 )\t tipo de variável:  <class 'int'> \n",
      "\n",
      "Elemento ( 3.14 )\t tipo de variável:  <class 'float'> \n",
      "\n"
     ]
    }
   ],
   "source": [
    "for a in A: # Uma outra forma de usar o laço for sem utilizar o \"range()\"\n",
    "    print(\"Elemento (\",a,\")\\t tipo de variável: \", type(a),\"\\n\") # A cada execução \"a\" receberá um valor da lista."
   ]
  },
  {
   "cell_type": "markdown",
   "id": "d2f8e2e9",
   "metadata": {},
   "source": [
    "<html>\n",
    "<p style=\"background-color: rgb(245,245,245); padding: 1%\">\n",
    "Para manipular apenas um elemento específico da nossa lista devemos identificar a sua posição através de [n], onde n deve ser o número de sua posição, a começar pelo 0.<br/>\n",
    "Por exemplo, se queremos trabalhar com o primeiro elemento da nossa lista A, devemos chamar A[0],\n",
    "se queremos o segundo, chamamos A[1], se queremos o terceiro, chamamos A[2], e assim por diante.\n",
    "</p>\n",
    "</html>"
   ]
  },
  {
   "cell_type": "code",
   "execution_count": 11,
   "id": "e23184a2",
   "metadata": {},
   "outputs": [
    {
     "name": "stdout",
     "output_type": "stream",
     "text": [
      "\u001b[1m texto \u001b[0m é o primeiro elemento da nossa lista.\n"
     ]
    }
   ],
   "source": [
    "print(\"\\033[1m\", A[0], \"\\033[0m é o primeiro elemento da nossa lista.\")"
   ]
  },
  {
   "cell_type": "code",
   "execution_count": 12,
   "id": "8575349e",
   "metadata": {},
   "outputs": [
    {
     "name": "stdout",
     "output_type": "stream",
     "text": [
      "\u001b[1m 1 \u001b[0m é o segundo elemento da nossa lista.\n"
     ]
    }
   ],
   "source": [
    "print(\"\\033[1m\", A[1], \"\\033[0m é o segundo elemento da nossa lista.\")"
   ]
  },
  {
   "cell_type": "code",
   "execution_count": 13,
   "id": "5d7cd8a7",
   "metadata": {},
   "outputs": [
    {
     "name": "stdout",
     "output_type": "stream",
     "text": [
      "\u001b[1m 7 \u001b[0m é o quinto elemento da nossa lista.\n"
     ]
    }
   ],
   "source": [
    "print(\"\\033[1m\", A[4], \"\\033[0m é o quinto elemento da nossa lista.\")"
   ]
  },
  {
   "cell_type": "markdown",
   "id": "5c2f0733",
   "metadata": {},
   "source": [
    "<html>\n",
    "<p style=\"background-color: rgb(245,245,245); padding: 1%\">\n",
    "Supomos agora que temos uma lista com uma quantidade de elementos que não sabemos ao certo.<br/> Para isso usamos o comando <b>len()</b>. Veja no exemolo abaixo:\n",
    "</p>\n",
    "</html>"
   ]
  },
  {
   "cell_type": "code",
   "execution_count": 21,
   "id": "eaba7119",
   "metadata": {},
   "outputs": [
    {
     "name": "stdout",
     "output_type": "stream",
     "text": [
      "A nossa lista A possui \u001b[1m 7 \u001b[0m elementos.\n"
     ]
    }
   ],
   "source": [
    "N = len(A) # o comando len() retorna um número inteiro.\n",
    "print(\"A nossa lista A possui \\033[1m\", N, \"\\033[0m elementos.\")"
   ]
  },
  {
   "cell_type": "markdown",
   "id": "00cc752b",
   "metadata": {},
   "source": [
    "### Operações com listas:"
   ]
  },
  {
   "cell_type": "markdown",
   "id": "3dcc71bf",
   "metadata": {},
   "source": [
    "<html>\n",
    "<p style=\"background-color: rgb(245,245,245); padding: 1%\">\n",
    "Também é possível realizar operações entre listas, como adição, multiplicação e exclusão. <br/>\n",
    "Por adição nos referirmos a incluir um elemento ou conjunto de elesmentos a nossa lista. Isso pode ser feito simplesmente através do operador de soma <b>+</b> ou pelo comando <b>append()</b>. Veja o exemplo abaixo:\n",
    "</p>\n",
    "</html>"
   ]
  },
  {
   "cell_type": "code",
   "execution_count": 39,
   "id": "d848327f",
   "metadata": {},
   "outputs": [
    {
     "name": "stdout",
     "output_type": "stream",
     "text": [
      "Nova lista: ['texto', 1, 3.45, True, 7, 8, 3.14, 'b1', 'b2', 'b3']\n"
     ]
    }
   ],
   "source": [
    "B = [\"b1\", \"b2\", \"b3\"]\n",
    "C1 = A + B\n",
    "print(\"Nova lista:\", C1)"
   ]
  },
  {
   "cell_type": "code",
   "execution_count": 40,
   "id": "23e8357a",
   "metadata": {},
   "outputs": [
    {
     "name": "stdout",
     "output_type": "stream",
     "text": [
      "Nova lista: ['texto', 1, 3.45, True, 7, 8, 3.14, ['b1', 'b2', 'b3']]\n"
     ]
    }
   ],
   "source": [
    "A.append(B)\n",
    "print(\"Nova lista:\", A)"
   ]
  },
  {
   "cell_type": "markdown",
   "id": "89e4f573",
   "metadata": {},
   "source": [
    "<html>\n",
    "<p style=\"background-color: rgb(245,245,245); padding: 1%\">\n",
    "Para multiplicarmos a nossa lista usamos o operador de multiplicação <b>*</b>.\n",
    "</p>\n",
    "</html>"
   ]
  },
  {
   "cell_type": "code",
   "execution_count": 41,
   "id": "2ddcb65b",
   "metadata": {},
   "outputs": [
    {
     "name": "stdout",
     "output_type": "stream",
     "text": [
      "Lista inicial:  ['a1', 'a2', 'a3']\n",
      "Lista dobrada:  ['a1', 'a2', 'a3', 'a1', 'a2', 'a3']\n",
      "Lista triplicada:  ['a1', 'a2', 'a3', 'a1', 'a2', 'a3', 'a1', 'a2', 'a3']\n"
     ]
    }
   ],
   "source": [
    "Lista = [\"a1\", \"a2\", \"a3\"]\n",
    "Lista2 = Lista*2\n",
    "Lista3 = Lista*3\n",
    "\n",
    "print(\"Lista inicial: \", Lista)\n",
    "print(\"Lista dobrada: \", Lista2)\n",
    "print(\"Lista triplicada: \", Lista3)"
   ]
  },
  {
   "cell_type": "markdown",
   "id": "38d39ebf",
   "metadata": {},
   "source": [
    "<html>\n",
    "<p style=\"background-color: rgb(245,245,245); padding: 1%\">\n",
    "Para excluirmos um elemento da nossa lista usamos o comando <b>del()</b>.\n",
    "</p>\n",
    "</html>"
   ]
  },
  {
   "cell_type": "code",
   "execution_count": 45,
   "id": "a8134cdf",
   "metadata": {
    "scrolled": true
   },
   "outputs": [
    {
     "name": "stdout",
     "output_type": "stream",
     "text": [
      "Lista inicial:  [1, 2, 3, 4, 5]\n",
      "Número de elementos da Lista:  5\n",
      "\n",
      "Lista final:  [1, 2, 3, 5]\n",
      "Número de elementos da Lista:  4\n"
     ]
    }
   ],
   "source": [
    "Lista = [1,2,3,4,5]\n",
    "print(\"Lista inicial: \", Lista)\n",
    "print(\"Número de elementos da Lista: \", len(Lista))\n",
    "\n",
    "del(Lista[3]) # deletando o quarto elemento da lista\n",
    "print(\"\\nLista final: \", Lista)\n",
    "print(\"Número de elementos da Lista: \", len(Lista))"
   ]
  },
  {
   "cell_type": "markdown",
   "id": "1a2220be",
   "metadata": {},
   "source": [
    "### O comando *range()*"
   ]
  },
  {
   "cell_type": "markdown",
   "id": "bc2891bc",
   "metadata": {},
   "source": [
    "<html>\n",
    "<p style=\"background-color: rgb(245,245,245); padding: 1%\">\n",
    "Usamos o comando <b>range()</b> quando queremos criar uma lista de números inteiros ou reais.<br/>\n",
    "Para criarmos uma lista de números inteiros partindo de 0 até um número N basta usar o comando abaixo:\n",
    "</p>\n",
    "</html>"
   ]
  },
  {
   "cell_type": "code",
   "execution_count": 59,
   "id": "6c71dad8",
   "metadata": {},
   "outputs": [
    {
     "name": "stdout",
     "output_type": "stream",
     "text": [
      "0\n",
      "1\n",
      "2\n",
      "3\n",
      "4\n",
      "\n",
      "Número de elementos da nossa lista: 5\n"
     ]
    }
   ],
   "source": [
    "Lista = range(5) # conjunto dos números inteiros não-negativos menores do que 5\n",
    "for a in Lista:\n",
    "    print(a)\n",
    "\n",
    "print(\"\\nNúmero de elementos da nossa lista:\", len(Lista))"
   ]
  },
  {
   "cell_type": "markdown",
   "id": "7ba755ab",
   "metadata": {},
   "source": [
    "<html>\n",
    "<p style=\"background-color: rgb(245,245,245); padding: 1%\">\n",
    "Para criarmos um limite inferior e superior da nossa lista adicionamos mais um argumento em nossa lista.\n",
    "</p>\n",
    "</html>"
   ]
  },
  {
   "cell_type": "code",
   "execution_count": 64,
   "id": "ecfbb316",
   "metadata": {
    "scrolled": true
   },
   "outputs": [
    {
     "name": "stdout",
     "output_type": "stream",
     "text": [
      "5\n",
      "6\n",
      "7\n",
      "8\n",
      "9\n",
      "\n",
      "Número de elementos da nossa lista: 5\n"
     ]
    }
   ],
   "source": [
    "# range( valor inicial , valor final )\n",
    "Lista = range(5,10) # conjunto dos números inteiros maiores ou iguas a 5 e menores do que 10\n",
    "for a in Lista:\n",
    "    print(a)\n",
    "\n",
    "print(\"\\nNúmero de elementos da nossa lista:\", len(Lista))"
   ]
  },
  {
   "cell_type": "markdown",
   "id": "e5ddf80a",
   "metadata": {},
   "source": [
    "<html>\n",
    "<p style=\"background-color: rgb(245,245,245); padding: 1%\">\n",
    "Caso queiramos que o intervalo de um elemento para o outro não seja 1, mas um outro valor qualquer, acrescentamos mais um argumento em nosso range. Nos exemplos abaixo o intervalo entre um elemento e o outro será 2:\n",
    "</p>\n",
    "</html>"
   ]
  },
  {
   "cell_type": "code",
   "execution_count": 65,
   "id": "1858c9ce",
   "metadata": {},
   "outputs": [
    {
     "name": "stdout",
     "output_type": "stream",
     "text": [
      "0\n",
      "2\n",
      "4\n",
      "6\n",
      "8\n"
     ]
    }
   ],
   "source": [
    "# range( valor inicial, valor final, intervalo entre elementos)\n",
    "Lista = range(0,10,2) # conjunto dos números inteiros-não negativos pares menores do que 10:\n",
    "for a in Lista: \n",
    "    print(a)"
   ]
  },
  {
   "cell_type": "code",
   "execution_count": 63,
   "id": "85a0a6bf",
   "metadata": {},
   "outputs": [
    {
     "name": "stdout",
     "output_type": "stream",
     "text": [
      "1\n",
      "3\n",
      "5\n",
      "7\n",
      "9\n"
     ]
    }
   ],
   "source": [
    "Lista = range(1,10,2) # conjunto dos números inteiros-não negativos ímpares menores do que 10:\n",
    "for a in Lista: \n",
    "    print(a)"
   ]
  },
  {
   "cell_type": "markdown",
   "id": "4e80c39a",
   "metadata": {},
   "source": [
    "## 2.2 Biblioteca *Numpy*"
   ]
  },
  {
   "cell_type": "markdown",
   "id": "46c0db96",
   "metadata": {},
   "source": [
    "<html>\n",
    "<p style=\"background-color: rgb(245,245,245); padding: 1%\">\n",
    "Para trabalharmos com vetores e matrizes devemos chamar a nossa primeira biblioteca, o <b>Numpy</b>.\n",
    "Para isso vamos primeiramente importar a nossa biblioteca em nosso código através do comando <b>import</b> (importar) e em seguida o nome da biblioteca. Caso queiramos simplificar o nome da nossa biblioteca, por exemplo com uma abreviação, devemos acrescentar ainda o comando <b>as</b> (como) e um nome mais simplificado que desejamos.<br/>\n",
    "Veja a seguir como chamar o <b>Numpy</b> nas duas formas e sem seguida chamarmos o número pi.\n",
    "</p>\n",
    "</html> "
   ]
  },
  {
   "cell_type": "code",
   "execution_count": 52,
   "id": "2863b19e",
   "metadata": {},
   "outputs": [
    {
     "name": "stdout",
     "output_type": "stream",
     "text": [
      "O número pi é igual a: 3.141592653589793\n"
     ]
    }
   ],
   "source": [
    "import numpy # sem simplificação\n",
    "pi = numpy.pi\n",
    "print(\"O número pi é igual a:\",pi)"
   ]
  },
  {
   "cell_type": "code",
   "execution_count": 53,
   "id": "2420903b",
   "metadata": {},
   "outputs": [
    {
     "name": "stdout",
     "output_type": "stream",
     "text": [
      "O número pi é igual a: 3.141592653589793\n"
     ]
    }
   ],
   "source": [
    "import numpy as np # com simplificação\n",
    "pi = np.pi\n",
    "print(\"O número pi é igual a:\", pi)"
   ]
  },
  {
   "cell_type": "markdown",
   "id": "a6330a4b",
   "metadata": {},
   "source": [
    "### 2.2.1 Vetores (*arrays*)"
   ]
  },
  {
   "cell_type": "markdown",
   "id": "a58ffdd4",
   "metadata": {},
   "source": [
    "<html>\n",
    "<p style=\"background-color: rgb(245,245,245); padding: 1%\">\n",
    "Vetores são objetos semelhantes as listas mas com propriedades específicas para manimulação de números.\n",
    "Para utilizá-los precisamos fazer uso da nossa primeira biblioteca, o <b>Numpy</b>.<br/>\n",
    "Para criarmos um vetor a partir de uma lista de números inteiros e reais devemos usar o comando <b>numpy.array()</b>.\n",
    "</p>\n",
    "</html>"
   ]
  },
  {
   "cell_type": "code",
   "execution_count": 66,
   "id": "00867515",
   "metadata": {},
   "outputs": [
    {
     "name": "stdout",
     "output_type": "stream",
     "text": [
      "Tipo da variável (Lista):  <class 'list'>\n",
      "Tipo da variável (vetor):  <class 'numpy.ndarray'>\n"
     ]
    }
   ],
   "source": [
    "import numpy\n",
    "\n",
    "Lista = [1,2,3,4,5]\n",
    "vetor = numpy.array(Lista)\n",
    "print(\"Tipo da variável (Lista): \", type(Lista))\n",
    "print(\"Tipo da variável (vetor): \", type(vetor))"
   ]
  },
  {
   "cell_type": "markdown",
   "id": "3dac932d",
   "metadata": {},
   "source": [
    "### 2.2.2 Matrizes"
   ]
  },
  {
   "cell_type": "markdown",
   "id": "b4370677",
   "metadata": {},
   "source": [
    "<html>\n",
    "<p style=\"background-color: rgb(245,245,245); padding: 1%\">\n",
    "Neste tutorial vamos trabalhar com as listas, vetores, matrizes. Além disso iremos aprender um pouco sobre as ferramentas disponíveis na biblioteca <b>Numpy</b>\n",
    "</p>\n",
    "</html>"
   ]
  },
  {
   "cell_type": "markdown",
   "id": "f46bc367",
   "metadata": {},
   "source": [
    "## # Comandos Apresentados:"
   ]
  },
  {
   "cell_type": "markdown",
   "id": "c283cbd8",
   "metadata": {},
   "source": [
    "<html>\n",
    "<table style=\"width:50%\">\n",
    "<tr>\n",
    "    <th><h2>Comandos</h2></th>\n",
    "    <th><h2>Significado</h2></th>\n",
    "</tr>\n",
    "</table>\n",
    "</html>"
   ]
  }
 ],
 "metadata": {
  "kernelspec": {
   "display_name": "Python 3",
   "language": "python",
   "name": "python3"
  },
  "language_info": {
   "codemirror_mode": {
    "name": "ipython",
    "version": 3
   },
   "file_extension": ".py",
   "mimetype": "text/x-python",
   "name": "python",
   "nbconvert_exporter": "python",
   "pygments_lexer": "ipython3",
   "version": "3.8.6"
  }
 },
 "nbformat": 4,
 "nbformat_minor": 5
}
