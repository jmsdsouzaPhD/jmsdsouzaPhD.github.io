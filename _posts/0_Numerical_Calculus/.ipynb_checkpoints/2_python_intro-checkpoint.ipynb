{
 "cells": [
  {
   "cell_type": "markdown",
   "id": "68dcea45-5a67-464b-89df-079b36e22143",
   "metadata": {
    "tags": []
   },
   "source": [
    "# 2. Introdução ao Python: Variáveis Booleanas, Operadores Relacionais e Comandos *if, while, for*."
   ]
  },
  {
   "cell_type": "markdown",
   "id": "54d1cefc-58df-4d2b-b8b7-890bb0c57232",
   "metadata": {},
   "source": [
    "<html>\n",
    "<p style=\"background-color: rgb(245,245,245); padding: 1%\">\n",
    "Neste tutorial aprenderemos com utilizar as variáveis boolenas (<b>True</b> e <b>False</b>) e os comandos <b>if, while, for</b>.\n",
    "</p>\n",
    "</html>"
   ]
  },
  {
   "cell_type": "markdown",
   "id": "8dd1150d-2886-4cf5-b5e4-9526687968ab",
   "metadata": {},
   "source": [
    "## 2.1 Variáveis Booleanas e Operadores Relacionais"
   ]
  },
  {
   "cell_type": "markdown",
   "id": "c0d5dbac",
   "metadata": {},
   "source": [
    "<html>\n",
    "<p style=\"background-color: rgb(245,245,245); padding: 1%\">\n",
    "As variáveis boleanas (<b>True</b> e <b>False</b>) são usandas quando queremos verificar que determinada relação em nosso códio é verdadeira <b>True</b> ou false <b>False</b>. Essa verificação é feita através dos seguintes operadores relacionais:<br/><br/>\n",
    "</html>\n",
    "\n",
    "\\begin{aligned}\n",
    "    == & & Igual\\ a \\\\\n",
    "    != & & Diferente\\ de\\\\\n",
    "    < & & Menor\\ que\\\\\n",
    "    > & & Maior\\ que\\\\\n",
    "    <= & & Menor\\ ou\\ igual\\ a\\\\\n",
    "    >= & & Maior\\ ou\\ igual\\ a\n",
    "\\end{aligned}\n",
    "\n",
    "<html>\n",
    "<p style=\"background-color: rgb(245,245,245); padding: 1%\">\n",
    "Vejamos os exemplos abaixo:\n",
    "</html>"
   ]
  },
  {
   "cell_type": "code",
   "execution_count": 3,
   "id": "6f60f822",
   "metadata": {},
   "outputs": [
    {
     "name": "stdout",
     "output_type": "stream",
     "text": [
      "False True False False True True\n"
     ]
    }
   ],
   "source": [
    "A = 5 ; B = 6 # usamos o ; para não precisar digitar (B=6) em outra linha.\n",
    "print(A==B, A!=B, A>B, A>=B, A<B, A<=B)"
   ]
  },
  {
   "cell_type": "code",
   "execution_count": 7,
   "id": "1539c1fd",
   "metadata": {},
   "outputs": [
    {
     "data": {
      "text/plain": [
       "bool"
      ]
     },
     "execution_count": 7,
     "metadata": {},
     "output_type": "execute_result"
    }
   ],
   "source": [
    "var = A==B # var recebeu o valor (A==B)\n",
    "type(var) # veremos que var recebeu uma variável booleana"
   ]
  }
 ],
 "metadata": {
  "kernelspec": {
   "display_name": "Python 3",
   "language": "python",
   "name": "python3"
  },
  "language_info": {
   "codemirror_mode": {
    "name": "ipython",
    "version": 3
   },
   "file_extension": ".py",
   "mimetype": "text/x-python",
   "name": "python",
   "nbconvert_exporter": "python",
   "pygments_lexer": "ipython3",
   "version": "3.8.6"
  }
 },
 "nbformat": 4,
 "nbformat_minor": 5
}
