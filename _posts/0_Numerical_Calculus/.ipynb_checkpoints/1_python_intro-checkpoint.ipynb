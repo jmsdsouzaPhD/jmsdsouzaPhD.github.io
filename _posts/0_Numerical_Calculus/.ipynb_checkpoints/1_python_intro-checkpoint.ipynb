{
 "cells": [
  {
   "cell_type": "markdown",
   "id": "68dcea45-5a67-464b-89df-079b36e22143",
   "metadata": {
    "tags": []
   },
   "source": [
    "# 2. Introdução ao Python: Variáveis Booleanas, Operadores Relacionais e Comandos *if, while, for*."
   ]
  },
  {
   "cell_type": "markdown",
   "id": "54d1cefc-58df-4d2b-b8b7-890bb0c57232",
   "metadata": {},
   "source": [
    "<html>\n",
    "<p style=\"background-color: rgb(245,245,245); padding: 1%\">\n",
    "Neste tutorial aprenderemos com utilizar as variáveis boolenas( <b>True</b> e <b>False</b>\n",
    "</p>\n",
    "</html>"
   ]
  },
  {
   "cell_type": "markdown",
   "id": "8dd1150d-2886-4cf5-b5e4-9526687968ab",
   "metadata": {},
   "source": [
    "## 2.1 Variáveis Booleanas e Operadores Relacionais"
   ]
  },
  {
   "cell_type": "markdown",
   "id": "b59af83e",
   "metadata": {},
   "source": [
    "<html>\n",
    "<p style=\"background-color: rgb(245,245,245); padding: 1%\">\n",
    "Vamos agora trabalhar com operações utilizando variáveis do tipo texto.<br/>\n",
    "Primeiramente devemos saber que apenas podemos realizar operações de <b>ADIÇÃO</b> com esses tipos de variáveis.<br/>\n",
    "Vejamos agora o exemplo abaixo em adicionar duas variáveis do tipo <b>string</b>.\n",
    "</html>"
   ]
  }
 ],
 "metadata": {
  "kernelspec": {
   "display_name": "Python 3",
   "language": "python",
   "name": "python3"
  },
  "language_info": {
   "codemirror_mode": {
    "name": "ipython",
    "version": 3
   },
   "file_extension": ".py",
   "mimetype": "text/x-python",
   "name": "python",
   "nbconvert_exporter": "python",
   "pygments_lexer": "ipython3",
   "version": "3.8.6"
  }
 },
 "nbformat": 4,
 "nbformat_minor": 5
}
