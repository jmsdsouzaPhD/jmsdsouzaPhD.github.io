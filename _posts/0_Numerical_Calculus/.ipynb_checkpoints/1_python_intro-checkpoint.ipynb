{
 "cells": [
  {
   "cell_type": "markdown",
   "id": "68dcea45-5a67-464b-89df-079b36e22143",
   "metadata": {
    "tags": []
   },
   "source": [
    "# Introdução ao Python"
   ]
  },
  {
   "cell_type": "markdown",
   "id": "54d1cefc-58df-4d2b-b8b7-890bb0c57232",
   "metadata": {},
   "source": [
    "Neste tutorial será abordado as ferramentas e conceitos básicos da linguagem Python para fins do curso de Física Computacional I. O material aqui não se limita apenas a estudades de Física mas também para qualquer interessado no assunto. Bom aprendizado."
   ]
  },
  {
   "cell_type": "markdown",
   "id": "8dd1150d-2886-4cf5-b5e4-9526687968ab",
   "metadata": {},
   "source": [
    "## Primeira Apresentação (Tipos de Variáveis e Impressão)"
   ]
  },
  {
   "cell_type": "markdown",
   "id": "aabbaed7-abeb-4118-b8ed-5b209154af83",
   "metadata": {},
   "source": [
    "Observe o primeiro programa a seguir:"
   ]
  },
  {
   "cell_type": "code",
   "execution_count": 5,
   "id": "ea18ccf3-56c0-4a4f-afde-3f6c52831895",
   "metadata": {},
   "outputs": [
    {
     "name": "stdout",
     "output_type": "stream",
     "text": [
      "Hello World!!\n"
     ]
    }
   ],
   "source": [
    "print(\"Hello World!!\") # O hashtag é usado para comentar alguma linha do seu código"
   ]
  },
  {
   "cell_type": "code",
   "execution_count": 9,
   "id": "33cc44c2-9953-4867-a3b0-9dc12a9839f9",
   "metadata": {},
   "outputs": [
    {
     "name": "stdout",
     "output_type": "stream",
     "text": [
      "Agora irei imprimir a variável de texto ('var_text') na linha abaixo: \n",
      " Um texto\n"
     ]
    }
   ],
   "source": [
    "var_texto = \"Um texto\"\n",
    "print(\"Agora irei imprimir a variável de texto ('var_text') na linha abaixo: \\n %s\" % var_texto)"
   ]
  },
  {
   "cell_type": "markdown",
   "id": "751d1811-1f6c-4fa0-aaed-557a22835068",
   "metadata": {},
   "source": [
    "Acima foi apresentato a primeira variável do tipo texto/string (%s) com um nome arbitrário \"var_texto\" recevbendo o valor \"Um texto\". Para se imprimir a nossa variável dentro de um texto devemos utilizar o símbolo %s no lugar onde você deseja que sua variável seja escrita e em seguida, ao fim do texto, precisamos informar, através do símbolo (%), a variável que desejamos imprimir. Aqui também utilizamos o símbolo (\\n) para pular uma linha."
   ]
  },
  {
   "cell_type": "code",
   "execution_count": null,
   "id": "4969155c-67e3-4969-99c4-4bfdd9c4c89b",
   "metadata": {},
   "outputs": [],
   "source": []
  }
 ],
 "metadata": {
  "kernelspec": {
   "display_name": "Python 3",
   "language": "python",
   "name": "python3"
  },
  "language_info": {
   "codemirror_mode": {
    "name": "ipython",
    "version": 3
   },
   "file_extension": ".py",
   "mimetype": "text/x-python",
   "name": "python",
   "nbconvert_exporter": "python",
   "pygments_lexer": "ipython3",
   "version": "3.8.6"
  }
 },
 "nbformat": 4,
 "nbformat_minor": 5
}
