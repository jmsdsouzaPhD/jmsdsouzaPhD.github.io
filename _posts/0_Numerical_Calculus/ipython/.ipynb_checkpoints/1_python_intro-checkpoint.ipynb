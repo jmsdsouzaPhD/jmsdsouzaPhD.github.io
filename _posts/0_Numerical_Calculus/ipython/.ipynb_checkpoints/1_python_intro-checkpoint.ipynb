{
 "cells": [
  {
   "cell_type": "markdown",
   "id": "68dcea45-5a67-464b-89df-079b36e22143",
   "metadata": {
    "tags": []
   },
   "source": [
    "# 1. Introdução ao Python: Comandos *print()* e *type()* e variáveis dos tipos *string, int* e *float*"
   ]
  },
  {
   "cell_type": "markdown",
   "id": "54d1cefc-58df-4d2b-b8b7-890bb0c57232",
   "metadata": {},
   "source": [
    "<html>\n",
    "<p style=\"background-color: rgb(245,245,245); padding: 1%\">\n",
    "Neste tutorial será abordado as ferramentas e conceitos básicos da linguagem Python para fins do curso de Física Computacional I. O material aqui não se limita apenas a estudades de Física mas também para qualquer interessado no assunto. Bom aprendizado.\n",
    "</p>\n",
    "</html>"
   ]
  },
  {
   "cell_type": "markdown",
   "id": "8dd1150d-2886-4cf5-b5e4-9526687968ab",
   "metadata": {},
   "source": [
    "## 1.1. Comando *print()* e variáveis do tipo *string*  ou *str*"
   ]
  },
  {
   "cell_type": "markdown",
   "id": "aabbaed7-abeb-4118-b8ed-5b209154af83",
   "metadata": {},
   "source": [
    "<html>\n",
    "<p style=\"background-color: rgb(245,245,245); padding: 1%\">\n",
    "Observe a primeira linha de comando a seguir onde utilizamos o comando <b>print()</b>\n",
    "e o símbolo <b>#</b> para adicionar um comentrário:</p>\n",
    "</html>"
   ]
  },
  {
   "cell_type": "code",
   "execution_count": 1,
   "id": "ea18ccf3-56c0-4a4f-afde-3f6c52831895",
   "metadata": {
    "scrolled": false,
    "tags": []
   },
   "outputs": [
    {
     "name": "stdout",
     "output_type": "stream",
     "text": [
      "Hello World!!\n"
     ]
    }
   ],
   "source": [
    "print(\"Hello World!!\") # O hashtag é usado para comentar alguma linha do seu código"
   ]
  },
  {
   "cell_type": "code",
   "execution_count": 6,
   "id": "33cc44c2-9953-4867-a3b0-9dc12a9839f9",
   "metadata": {},
   "outputs": [
    {
     "name": "stdout",
     "output_type": "stream",
     "text": [
      "Agora irei imprimir a variável de texto \u001b[1m var_text \u001b[0m na linha abaixo: \n",
      " Um texto\n"
     ]
    }
   ],
   "source": [
    "var_texto = \"Um texto\"\n",
    "print(\"Agora irei imprimir a variável de texto \\033[1m var_text \\033[0m na linha abaixo: \\n %s\" % var_texto)"
   ]
  },
  {
   "cell_type": "markdown",
   "id": "751d1811-1f6c-4fa0-aaed-557a22835068",
   "metadata": {},
   "source": [
    "<html>\n",
    "<p style=\"background-color: rgb(245,245,245); padding: 1%\">\n",
    "Acima foi apresentato a primeira variável do tipo texto/string <b>%s</b> com um nome arbitrário <b>var_texto</b> recevbendo o valor <b>Um texto</b>. Para se imprimir a nossa variável dentro de um texto devemos utilizar o símbolo <b>%s</b> no lugar onde você deseja que sua variável seja escrita e em seguida, ao fim do texto, precisamos informar, através do símbolo <b>%</b>, a variável que desejamos imprimir. Aqui também utilizamos o símbolo <b>\\n</b> para pular uma linha. <br/><br/>\n",
    "Note também que eu utilizei os comandos <b>\\033[1m</b> e <b>\\033[0m</b> para delimitar um texto que eu quero que esteja em negrito. Observe mais uma vez os exemplos abaixo.\n",
    "</p>\n",
    "</html>"
   ]
  },
  {
   "cell_type": "code",
   "execution_count": 7,
   "id": "4969155c-67e3-4969-99c4-4bfdd9c4c89b",
   "metadata": {},
   "outputs": [
    {
     "name": "stdout",
     "output_type": "stream",
     "text": [
      "Este texto não contêm formatação\n"
     ]
    }
   ],
   "source": [
    "print(\"Este texto não contêm formatação\")"
   ]
  },
  {
   "cell_type": "code",
   "execution_count": 8,
   "id": "1018dc86",
   "metadata": {},
   "outputs": [
    {
     "name": "stdout",
     "output_type": "stream",
     "text": [
      "\u001b[1m Este texto está em negrito \u001b[0m\n"
     ]
    }
   ],
   "source": [
    "print(\"\\033[1m Este texto está em negrito \\033[0m\")"
   ]
  },
  {
   "cell_type": "markdown",
   "id": "29078b1f",
   "metadata": {},
   "source": [
    "<html>\n",
    "<p style=\"background-color: rgb(245,245,245); padding: 1%\">\n",
    "Além dos comandos para colocar uma parte do texto em negrito, observe quem também usamos o símbolo <b>\\n</b>\n",
    "dentro do texto.<br/> Como na linguagem C, o símbolo <b>\\n</b> é usando quando queremos pular uma linha dentro do nosso texto.<br/>\n",
    "Se queremos, por outro lado, adicionar uma tabulação em seu texto, usamos o símbolo <b>\\t</b>.\n",
    "</p>\n",
    "</html>"
   ]
  },
  {
   "cell_type": "code",
   "execution_count": 46,
   "id": "20f9bc33",
   "metadata": {},
   "outputs": [
    {
     "name": "stdout",
     "output_type": "stream",
     "text": [
      "Vamos adicioanr uma tabulação entre A e B:\n",
      " A \t B\n"
     ]
    }
   ],
   "source": [
    "print(\"Vamos adicioanr uma tabulação entre A e B:\\n A \\t B\")"
   ]
  },
  {
   "cell_type": "markdown",
   "id": "b59af83e",
   "metadata": {},
   "source": [
    "<html>\n",
    "<p style=\"background-color: rgb(245,245,245); padding: 1%\">\n",
    "Vamos agora trabalhar com operações utilizando variáveis do tipo texto.<br/>\n",
    "Primeiramente devemos saber que apenas podemos realizar operações de <b>ADIÇÃO</b> com esses tipos de variáveis.<br/>\n",
    "Vejamos agora o exemplo abaixo em adicionar duas variáveis do tipo <b>string</b>.\n",
    "</html>"
   ]
  },
  {
   "cell_type": "code",
   "execution_count": 15,
   "id": "41094139",
   "metadata": {},
   "outputs": [
    {
     "name": "stdout",
     "output_type": "stream",
     "text": [
      "Estou somando as variáveis de texto A e B:\n",
      "Impressão Simples:\n",
      "A + B =  Texto 1 + Texto 2\n"
     ]
    }
   ],
   "source": [
    "A = \"Texto 1\"\n",
    "B = \" + Texto 2\"\n",
    "C = A + B\n",
    "print(\"Estou somando as variáveis de texto A e B:\")\n",
    "print(\"Impressão Simples:\")\n",
    "print(\"A + B = \", A + B)"
   ]
  },
  {
   "cell_type": "code",
   "execution_count": 16,
   "id": "05b60d4a",
   "metadata": {},
   "outputs": [
    {
     "name": "stdout",
     "output_type": "stream",
     "text": [
      "Impresão usando o símbolo de texto \u001b[1m %s \u001b[0m:\n",
      "A + B = Texto 1 + Texto 2\n"
     ]
    }
   ],
   "source": [
    "print(\"Impresão usando o símbolo de texto \\033[1m %s \\033[0m:\")\n",
    "print(\"A + B = %s\" % (A+B))"
   ]
  },
  {
   "cell_type": "markdown",
   "id": "dcfdd557",
   "metadata": {},
   "source": [
    "<html>\n",
    "<p style=\"background-color: rgb(245,245,245); padding: 1%\">\n",
    "Note aqui que se utilizarmos, dentro de um string, o símbolo <b>%s</b>\n",
    "sem espicificar em seguida, através do símbolo <b>%</b>, o que desejamos substituir no lugar,\n",
    "o seu compilador/terminal irá apenas retornar o texto inserido sem modificar o <b>%s</b>.\n",
    "</p>\n",
    "</html>"
   ]
  },
  {
   "cell_type": "markdown",
   "id": "244fed5d",
   "metadata": {},
   "source": [
    "## 1.2. Variáveis dos tipos inteiro e ponto flutuante (*int, float*) "
   ]
  },
  {
   "cell_type": "markdown",
   "id": "b350e879",
   "metadata": {},
   "source": [
    "<html>\n",
    "<p style=\"background-color: rgb(245,245,245); padding: 1%\">\n",
    "Variáveis do tipo interito (int), como o próprio nome informa, são aquelas que armazenam valores pertencenter ao conjunto dos números inteiros $\\mathbb{Z}=\\{...,\\ -3,\\ 2,\\ 1,\\ 0,\\ 1,\\ 2,\\ 3,\\ ...\\}$. Esses tipos de variáveis possuem o símbolo <b>%d</b> em sua representação.<br/><br/>\n",
    "Já as variáveis do tipo ponto flutuante (float) são aquelas que armazenam qualquer valores do conjunto dos números reais $\\mathbb{R}=\\{...,\\ -3,\\ ..., -2.37825,\\ ..., -2,\\ -1.123, ..., 0,\\ ... 3.14, ....\\}$. Esses tipos de variáveis possuem o símbolo <b>%f</b> em sua representação.\n",
    "</p>\n",
    "</html>"
   ]
  },
  {
   "cell_type": "code",
   "execution_count": 27,
   "id": "bf1e9e05",
   "metadata": {},
   "outputs": [
    {
     "name": "stdout",
     "output_type": "stream",
     "text": [
      "Vamos perguntar agora ao programa qual é o tipo de cada variável acima através do comando\u001b[1m type() \u001b[0m:\n"
     ]
    }
   ],
   "source": [
    "A = 1\n",
    "B = 3.14\n",
    "print(\"Vamos perguntar agora ao programa qual é o tipo de cada variável acima através\",\n",
    "      \"do comando\\033[1m type() \\033[0m:\")"
   ]
  },
  {
   "cell_type": "code",
   "execution_count": 22,
   "id": "62ffc4f0",
   "metadata": {
    "scrolled": true
   },
   "outputs": [
    {
     "data": {
      "text/plain": [
       "int"
      ]
     },
     "execution_count": 22,
     "metadata": {},
     "output_type": "execute_result"
    }
   ],
   "source": [
    "type(A)"
   ]
  },
  {
   "cell_type": "code",
   "execution_count": 25,
   "id": "1ee15ebf",
   "metadata": {},
   "outputs": [
    {
     "data": {
      "text/plain": [
       "float"
      ]
     },
     "execution_count": 25,
     "metadata": {},
     "output_type": "execute_result"
    }
   ],
   "source": [
    "type(B)"
   ]
  },
  {
   "cell_type": "markdown",
   "id": "a68e7baf",
   "metadata": {},
   "source": [
    "## 1.3. Operações com variáveis *int* e *float*"
   ]
  },
  {
   "cell_type": "markdown",
   "id": "b3cf352d",
   "metadata": {},
   "source": [
    "<html>\n",
    "<p style=\"background-color: rgb(245,245,245); padding: 1%\">\n",
    "As possíveis operações que podem ser realizaras com variáveis dos tipos <i>int</i> e <i>float</i>\n",
    "são: <b>ADIÇÃO</b> (+), <b>SUBTRAÇÃO</b> (-), <b>MULTIPLICAÇÃO</b> (*), <b>DIVISÃO</b> (/), e <b>RESTO DE DIVISÃO INTEIRA</b> (%).<br/>\n",
    "Como bem conhecido operações de adição, subtração e multiplicação entre variáveis do tipo <i>int</i> sempre retornaram valores inteiros, enquanto que, com as demais operações, os valores retornados podem ser do tipo <i>float</i>.\n",
    "</p>\n",
    "</html>"
   ]
  },
  {
   "cell_type": "code",
   "execution_count": 32,
   "id": "0346ea28",
   "metadata": {},
   "outputs": [
    {
     "name": "stdout",
     "output_type": "stream",
     "text": [
      "A =  3\n",
      "B =  2\n",
      "C =  3.14\n"
     ]
    }
   ],
   "source": [
    "A, B, C = 3, 2, 3.14\n",
    "print(\"A = \", A)\n",
    "print(\"B = \", B)\n",
    "print(\"C = \", C)"
   ]
  },
  {
   "cell_type": "code",
   "execution_count": 33,
   "id": "9f301835",
   "metadata": {
    "scrolled": true
   },
   "outputs": [
    {
     "data": {
      "text/plain": [
       "(int, int, float)"
      ]
     },
     "execution_count": 33,
     "metadata": {},
     "output_type": "execute_result"
    }
   ],
   "source": [
    "type(A), type(B), type(C)"
   ]
  },
  {
   "cell_type": "code",
   "execution_count": 43,
   "id": "67485f04",
   "metadata": {},
   "outputs": [
    {
     "data": {
      "text/plain": [
       "(int, int, int, float, int)"
      ]
     },
     "execution_count": 43,
     "metadata": {},
     "output_type": "execute_result"
    }
   ],
   "source": [
    "type(A+B), type(A-B), type(A*B), type(A/B), type(B%A)"
   ]
  },
  {
   "cell_type": "code",
   "execution_count": 44,
   "id": "5b7978e0",
   "metadata": {},
   "outputs": [
    {
     "data": {
      "text/plain": [
       "(5, 1, 6, 1.5, 2)"
      ]
     },
     "execution_count": 44,
     "metadata": {},
     "output_type": "execute_result"
    }
   ],
   "source": [
    "A+B, A-B, A*B, A/B, B%A"
   ]
  },
  {
   "cell_type": "markdown",
   "id": "155473ff",
   "metadata": {},
   "source": [
    "<html>\n",
    "<p style=\"background-color: rgb(245,245,245); padding: 1%\">\n",
    "As mesmas operações acima podem ser realizadas entre as variáveis inteiras A e B e a variável de ponto flutuante C. Realize seus testes em seu computador.\n",
    "</p>\n",
    "</html>"
   ]
  },
  {
   "cell_type": "markdown",
   "id": "0d4e0d5c",
   "metadata": {},
   "source": [
    "## # Comandos Apresentados:"
   ]
  },
  {
   "cell_type": "markdown",
   "id": "40a9dd60",
   "metadata": {},
   "source": [
    "<html>\n",
    "<table style=\"width:50%\"> \n",
    "<tr>\n",
    "    <th><h2>Comandos</h2></th>\n",
    "    <th><h2>Significado</h2></th>\n",
    "</tr><tr>\n",
    "    <th>print()</th>\n",
    "    <th>Imprimir texto na tela</th>\n",
    "</tr><tr>\n",
    "    <th>type()</th>\n",
    "    <th>Mostra o tipo de uma variável desejada</th>\n",
    "</tr><tr>\n",
    "    <th>\\n</th>\n",
    "    <th>Pula uma linha</th>\n",
    "</tr><tr>\n",
    "    <th>\\t</th>\n",
    "    <th>Insere uma tabulação</th>\n",
    "</tr><tr>\n",
    "    <th>\\033[1m ... \\033[0m</th>\n",
    "    <th>Texto em negrito</th>\n",
    "</tr><tr>\n",
    "    <th>%s</th>\n",
    "    <th>Símbolo de variável <i>str</i></th>\n",
    "</tr><tr>\n",
    "    <th>%d</th>\n",
    "    <th>Símbolo de variável <i>int</i></th>\n",
    "</tr><tr>\n",
    "    <th>%f</th>\n",
    "    <th>Símbolo de variável <i>float</i></th>\n",
    "</tr><tr>\n",
    "    <th>+</th>\n",
    "    <th>Adição</th>\n",
    "</tr><tr>\n",
    "    <th>-</th>\n",
    "    <th>Subtração</th>\n",
    "</tr><tr>\n",
    "    <th>*</th>\n",
    "    <th>Multiplicação</th>\n",
    "</tr><tr>\n",
    "    <th>/</th>\n",
    "    <th>Divisão</th>\n",
    "</tr><tr>\n",
    "    <th>%</th>\n",
    "    <th>Resto de Divisão Inteira</th>\n",
    "</tr><tr>\n",
    "    <th>%</th>\n",
    "    <th>Identificador de substituição em <i>string</i></th>\n",
    "</tr>\n",
    "</table>\n",
    "</html>"
   ]
  }
 ],
 "metadata": {
  "kernelspec": {
   "display_name": "Python 3",
   "language": "python",
   "name": "python3"
  },
  "language_info": {
   "codemirror_mode": {
    "name": "ipython",
    "version": 3
   },
   "file_extension": ".py",
   "mimetype": "text/x-python",
   "name": "python",
   "nbconvert_exporter": "python",
   "pygments_lexer": "ipython3",
   "version": "3.8.6"
  }
 },
 "nbformat": 4,
 "nbformat_minor": 5
}
