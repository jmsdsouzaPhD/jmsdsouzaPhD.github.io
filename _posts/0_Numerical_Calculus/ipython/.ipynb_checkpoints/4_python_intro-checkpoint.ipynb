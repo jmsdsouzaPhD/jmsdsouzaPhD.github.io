{
 "cells": [
  {
   "cell_type": "markdown",
   "id": "68dcea45-5a67-464b-89df-079b36e22143",
   "metadata": {
    "tags": []
   },
   "source": [
    "# 4. Geração de Gráficos com a Biblioteca Matplotlib"
   ]
  },
  {
   "cell_type": "markdown",
   "id": "54d1cefc-58df-4d2b-b8b7-890bb0c57232",
   "metadata": {},
   "source": [
    "<html>\n",
    "<p style=\"background-color: rgb(245,245,245); padding: 1%\">\n",
    "Nesse tutorial iremos aprender a trabalhar um pouco com a biblioteca <b>Matplotlib</b> utilizada no python pra se gerar gráficos 2D e 3D.\n",
    "</p>\n",
    "</html>"
   ]
  },
  {
   "cell_type": "markdown",
   "id": "8dd1150d-2886-4cf5-b5e4-9526687968ab",
   "metadata": {},
   "source": [
    "## 4.1 Tamanho da Figura, Grade e Rótulos (*labels*) dos Eixos"
   ]
  },
  {
   "cell_type": "markdown",
   "id": "20a82cf1",
   "metadata": {},
   "source": [
    "<html>\n",
    "<p style=\"background-color: rgb(245,245,245); padding: 1%\">\n",
    "Vamos primeiramente importar a nossa biblioteca <b>Matplotlib em nosso código.</b>\n",
    "</p>\n",
    "</html>"
   ]
  },
  {
   "cell_type": "code",
   "execution_count": 1,
   "id": "e65f9dbb",
   "metadata": {},
   "outputs": [],
   "source": [
    "import matplotlib.pyplot as plt"
   ]
  },
  {
   "cell_type": "markdown",
   "id": "491bda33",
   "metadata": {},
   "source": [
    "<html>\n",
    "<p style=\"background-color: rgb(245,245,245); padding: 1%\">\n",
    "Em seguida vamos criar a nossa figura, onde iremos inserir o nosso gráfico.<br/>\n",
    "Faremos isso através do comando <b>plt.figure()</b> e em seguida mostraremos \n",
    "a nossa figura, em branco, através do comando <b>plt.show()</b>\n",
    "</p>\n",
    "</html>"
   ]
  },
  {
   "cell_type": "code",
   "execution_count": 7,
   "id": "33e54297",
   "metadata": {},
   "outputs": [
    {
     "data": {
      "text/plain": [
       "<Figure size 432x288 with 0 Axes>"
      ]
     },
     "metadata": {},
     "output_type": "display_data"
    }
   ],
   "source": [
    "fig = plt.figure()\n",
    "plt.show()"
   ]
  },
  {
   "cell_type": "markdown",
   "id": "d2f8e2e9",
   "metadata": {},
   "source": [
    "<html>\n",
    "<p style=\"background-color: rgb(245,245,245); padding: 1%\">\n",
    "Ao rodar esses comandos em seu computador você verá que surgiu uma janela em branco. <br/>\n",
    "Vamos agora selecionar as proporções/tamanho da nossa figure.</br>\n",
    "</p>\n",
    "</html>"
   ]
  },
  {
   "cell_type": "code",
   "execution_count": null,
   "id": "e23184a2",
   "metadata": {},
   "outputs": [],
   "source": [
    "print(\"\\033[1m\", A[0], \"\\033[0m é o primeiro elemento da nossa lista.\")"
   ]
  },
  {
   "cell_type": "code",
   "execution_count": null,
   "id": "8575349e",
   "metadata": {},
   "outputs": [],
   "source": [
    "print(\"\\033[1m\", A[1], \"\\033[0m é o segundo elemento da nossa lista.\")"
   ]
  },
  {
   "cell_type": "code",
   "execution_count": null,
   "id": "5d7cd8a7",
   "metadata": {},
   "outputs": [],
   "source": [
    "print(\"\\033[1m\", A[4], \"\\033[0m é o quinto elemento da nossa lista.\")"
   ]
  },
  {
   "cell_type": "markdown",
   "id": "5c2f0733",
   "metadata": {},
   "source": [
    "<html>\n",
    "<p style=\"background-color: rgb(245,245,245); padding: 1%\">\n",
    "Supomos agora que temos uma lista com uma quantidade de elementos que não sabemos ao certo.<br/> Para isso usamos o comando <b>len()</b>. Veja no exemolo abaixo:\n",
    "</p>\n",
    "</html>"
   ]
  },
  {
   "cell_type": "code",
   "execution_count": null,
   "id": "eaba7119",
   "metadata": {},
   "outputs": [],
   "source": [
    "N = len(A) # o comando len() retorna um número inteiro.\n",
    "print(\"A nossa lista A possui \\033[1m\", N, \"\\033[0m elementos.\")"
   ]
  },
  {
   "cell_type": "markdown",
   "id": "00cc752b",
   "metadata": {},
   "source": [
    "### Operações com listas:"
   ]
  },
  {
   "cell_type": "markdown",
   "id": "3dcc71bf",
   "metadata": {},
   "source": [
    "<html>\n",
    "<p style=\"background-color: rgb(245,245,245); padding: 1%\">\n",
    "Também é possível realizar operações entre listas, como adição, multiplicação e exclusão. <br/>\n",
    "Por adição nos referirmos a incluir um elemento ou conjunto de elesmentos a nossa lista. Isso pode ser feito simplesmente através do operador de soma <b>+</b> ou pelo comando <b>append()</b>. Veja o exemplo abaixo:\n",
    "</p>\n",
    "</html>"
   ]
  },
  {
   "cell_type": "code",
   "execution_count": null,
   "id": "d848327f",
   "metadata": {},
   "outputs": [],
   "source": [
    "B = [\"b1\", \"b2\", \"b3\"]\n",
    "C1 = A + B\n",
    "print(\"Nova lista:\", C1)"
   ]
  },
  {
   "cell_type": "code",
   "execution_count": null,
   "id": "23e8357a",
   "metadata": {},
   "outputs": [],
   "source": [
    "A.append(B)\n",
    "print(\"Nova lista:\", A)"
   ]
  },
  {
   "cell_type": "markdown",
   "id": "89e4f573",
   "metadata": {},
   "source": [
    "<html>\n",
    "<p style=\"background-color: rgb(245,245,245); padding: 1%\">\n",
    "Para multiplicarmos a nossa lista usamos o operador de multiplicação <b>*</b>.\n",
    "</p>\n",
    "</html>"
   ]
  },
  {
   "cell_type": "code",
   "execution_count": null,
   "id": "2ddcb65b",
   "metadata": {},
   "outputs": [],
   "source": [
    "Lista = [\"a1\", \"a2\", \"a3\"]\n",
    "Lista2 = Lista*2\n",
    "Lista3 = Lista*3\n",
    "\n",
    "print(\"Lista inicial: \", Lista)\n",
    "print(\"Lista dobrada: \", Lista2)\n",
    "print(\"Lista triplicada: \", Lista3)"
   ]
  },
  {
   "cell_type": "markdown",
   "id": "38d39ebf",
   "metadata": {},
   "source": [
    "<html>\n",
    "<p style=\"background-color: rgb(245,245,245); padding: 1%\">\n",
    "Para excluirmos um elemento da nossa lista usamos o comando <b>del()</b>.\n",
    "</p>\n",
    "</html>"
   ]
  },
  {
   "cell_type": "code",
   "execution_count": null,
   "id": "a8134cdf",
   "metadata": {
    "scrolled": true
   },
   "outputs": [],
   "source": [
    "Lista = [1,2,3,4,5]\n",
    "print(\"Lista inicial: \", Lista)\n",
    "print(\"Número de elementos da Lista: \", len(Lista))\n",
    "\n",
    "del(Lista[3]) # deletando o quarto elemento da lista\n",
    "print(\"\\nLista final: \", Lista)\n",
    "print(\"Número de elementos da Lista: \", len(Lista))"
   ]
  },
  {
   "cell_type": "markdown",
   "id": "1a2220be",
   "metadata": {},
   "source": [
    "### O comando *range()*"
   ]
  },
  {
   "cell_type": "markdown",
   "id": "bc2891bc",
   "metadata": {},
   "source": [
    "<html>\n",
    "<p style=\"background-color: rgb(245,245,245); padding: 1%\">\n",
    "Usamos o comando <b>range()</b> quando queremos criar uma sequência de números inteiros ou reais.<br/>\n",
    "Para criarmos uma sequência de números inteiros partindo de 0 até um número N basta usar o comando abaixo:\n",
    "</p>\n",
    "</html>"
   ]
  },
  {
   "cell_type": "code",
   "execution_count": null,
   "id": "6c71dad8",
   "metadata": {},
   "outputs": [],
   "source": [
    "conj = range(5) # conjunto dos números inteiros não-negativos menores do que 5\n",
    "for a in conj:\n",
    "    print(a)\n",
    "\n",
    "print(\"\\nNúmero de elementos da nossa sequência:\", len(conj))"
   ]
  },
  {
   "cell_type": "markdown",
   "id": "2f6a671d",
   "metadata": {},
   "source": [
    "<html>\n",
    "<p style=\"background-color: rgb(245,245,245); padding: 1%\">\n",
    "O mesmo pode ser escrito de uma outra forma:\n",
    "</p>\n",
    "</html>"
   ]
  },
  {
   "cell_type": "code",
   "execution_count": null,
   "id": "2e24d138",
   "metadata": {},
   "outputs": [],
   "source": [
    "conj = range(5) # conjunto dos números inteiros não-negativos menores do que 5\n",
    "n = len(conj) # retorna o número de elementos de \"conj\"\n",
    "for i in range(n):\n",
    "    print(conj[i])\n",
    "\n",
    "print(\"\\nNúmero de elementos da nossa sequência:\", len(conj))"
   ]
  },
  {
   "cell_type": "markdown",
   "id": "cc2e3ecb",
   "metadata": {},
   "source": [
    "<html>\n",
    "<p style=\"background-color: rgb(245,245,245); padding: 1%\">\n",
    "Como dito anteriormente, o <b>range()</b> nos retorna um objeto diferente de uma lista.<br/>\n",
    "Vejamos isso através do comando <b>type()</b> que já aprendemos anterirormente.\n",
    "</p>\n",
    "</html>"
   ]
  },
  {
   "cell_type": "code",
   "execution_count": null,
   "id": "0780b53c",
   "metadata": {},
   "outputs": [],
   "source": [
    "type(conj)"
   ]
  },
  {
   "cell_type": "markdown",
   "id": "7ba755ab",
   "metadata": {},
   "source": [
    "<html>\n",
    "<p style=\"background-color: rgb(245,245,245); padding: 1%\">\n",
    "Para convertermos a sequência <b>conj</b> em uma lista basta usarmos o comando <b>type()</b>.\n",
    "</p>\n",
    "</html>"
   ]
  },
  {
   "cell_type": "code",
   "execution_count": null,
   "id": "dc0b523c",
   "metadata": {},
   "outputs": [],
   "source": [
    "nova_lista = list(conj)\n",
    "\"nova_lista é um objeto do tipo: \" + str(type(nova_lista))"
   ]
  },
  {
   "cell_type": "markdown",
   "id": "db650ca6",
   "metadata": {},
   "source": [
    "<html>\n",
    "<p style=\"background-color: rgb(245,245,245); padding: 1%\">\n",
    "Para criarmos um limite inferior e superior da nossa sequência adicionamos mais um argumento em nosso <b>range()</b>.\n",
    "</p>\n",
    "</html>"
   ]
  },
  {
   "cell_type": "code",
   "execution_count": null,
   "id": "ecfbb316",
   "metadata": {
    "scrolled": true
   },
   "outputs": [],
   "source": [
    "# range( valor inicial , valor final )\n",
    "Conj = range(5,10) # conjunto dos números inteiros maiores ou iguas a 5 e menores do que 10\n",
    "for a in Conj:\n",
    "    print(a)\n",
    "\n",
    "print(\"\\nNúmero de elementos da nossa sequência:\", len(Conj))"
   ]
  },
  {
   "cell_type": "markdown",
   "id": "e5ddf80a",
   "metadata": {},
   "source": [
    "<html>\n",
    "<p style=\"background-color: rgb(245,245,245); padding: 1%\">\n",
    "Caso queiramos que o intervalo de um elemento para o outro não seja 1, mas um outro valor qualquer, acrescentamos mais um argumento em nosso <b>range()</b>. Nos exemplos abaixo o intervalo entre um elemento e o outro será 2:\n",
    "</p>\n",
    "</html>"
   ]
  },
  {
   "cell_type": "code",
   "execution_count": null,
   "id": "1858c9ce",
   "metadata": {},
   "outputs": [],
   "source": [
    "# range( valor inicial, valor final, intervalo entre elementos)\n",
    "Conj = range(0,10,2) # conjunto dos números inteiros-não negativos pares menores do que 10:\n",
    "for a in Conj: \n",
    "    print(a)"
   ]
  },
  {
   "cell_type": "code",
   "execution_count": null,
   "id": "85a0a6bf",
   "metadata": {},
   "outputs": [],
   "source": [
    "Conj = range(1,10,2) # conjunto dos números inteiros-não negativos ímpares menores do que 10:\n",
    "for a in Conj: \n",
    "    print(a)"
   ]
  },
  {
   "cell_type": "markdown",
   "id": "4e80c39a",
   "metadata": {},
   "source": [
    "## 3.2 Biblioteca *Numpy*"
   ]
  },
  {
   "cell_type": "markdown",
   "id": "46c0db96",
   "metadata": {},
   "source": [
    "<html>\n",
    "<p style=\"background-color: rgb(245,245,245); padding: 1%\">\n",
    "Para trabalharmos com vetores e matrizes devemos chamar a nossa primeira biblioteca, o <b>Numpy</b>.\n",
    "Para isso vamos primeiramente importar a nossa biblioteca em nosso código através do comando <b>import</b> (importar) e em seguida o nome da biblioteca. Caso queiramos simplificar o nome da nossa biblioteca, por exemplo com uma abreviação, devemos acrescentar ainda o comando <b>as</b> (como) e um nome mais simplificado que desejamos.<br/>\n",
    "Veja a seguir como chamar o <b>Numpy</b> nas duas formas e sem seguida chamarmos o número pi.\n",
    "</p>\n",
    "</html> "
   ]
  },
  {
   "cell_type": "code",
   "execution_count": null,
   "id": "2863b19e",
   "metadata": {},
   "outputs": [],
   "source": [
    "import numpy # sem simplificação\n",
    "pi = numpy.pi\n",
    "print(\"O número pi é igual a:\",pi)"
   ]
  },
  {
   "cell_type": "code",
   "execution_count": null,
   "id": "2420903b",
   "metadata": {},
   "outputs": [],
   "source": [
    "import numpy as np # com simplificação\n",
    "pi = np.pi\n",
    "print(\"O número pi é igual a:\", pi)"
   ]
  },
  {
   "cell_type": "markdown",
   "id": "a6330a4b",
   "metadata": {},
   "source": [
    "### 2.2.1 Vetores (*arrays*)"
   ]
  },
  {
   "cell_type": "markdown",
   "id": "a58ffdd4",
   "metadata": {},
   "source": [
    "<html>\n",
    "<p style=\"background-color: rgb(245,245,245); padding: 1%\">\n",
    "Vetores são objetos semelhantes as listas mas com propriedades específicas para manimulação de números.\n",
    "Para utilizá-los precisamos fazer uso da nossa primeira biblioteca, o <b>Numpy</b>.<br/>\n",
    "Para criarmos um vetor a partir de uma lista de números inteiros e reais devemos usar o comando <b>numpy.array()</b>.\n",
    "</p>\n",
    "</html>"
   ]
  },
  {
   "cell_type": "code",
   "execution_count": null,
   "id": "00867515",
   "metadata": {},
   "outputs": [],
   "source": [
    "import numpy\n",
    "\n",
    "Conj = range(5)\n",
    "Lista = [1,2,3,4,5]\n",
    "vetor = numpy.array(Lista)\n",
    "print(\"Tipo da variável (Conj): \", type(Conj))\n",
    "print(\"Tipo da variável (Lista): \", type(Lista))\n",
    "print(\"Tipo da variável (vetor): \", type(vetor))"
   ]
  },
  {
   "cell_type": "markdown",
   "id": "f7cc939b",
   "metadata": {},
   "source": [
    "### Operações com Vetores:"
   ]
  },
  {
   "cell_type": "markdown",
   "id": "7e5180d2",
   "metadata": {},
   "source": [
    "<html>\n",
    "<p style=\"background-color: rgb(245,245,245); padding: 1%\">\n",
    "Diferentemente das operações com as listas, nós apenas podemos realizar operações entre vetores que possuam o mesmo número de elementos.<br/>\n",
    "Suponha que <b>A</b> e <b>B</b> são vetores com o mesmo número de elementos e <b>x</b> é um número qualquer (um inteiro ou um valor real). As seguintes operções são possíveis entre eles: <br/>\n",
    "<ul style=\"background-color: rgb(245,245,245);\">\n",
    "    <li> A + B (Cada elemento do vetor A será <b>somado</b> ao elemento correspondente do vetor B);</li>\n",
    "    <li> A - B (Cada elemento do vetor A será <b>subtraído</b> do elemento correspondente do vetor B);</li>\n",
    "    <li> A * B (Cada elemento do vetor A será <b>multiplicado</b> pelo elemento correspondente do vetor B);</li>\n",
    "    <li> A / B (Cada elemento do vetor A será <b>dividido</b> pelo elemento correspondente do vetor B);</li>\n",
    "    <li> A + x (Cada elemento do vetor A será <b>somado</b> ao valor de x);</li>\n",
    "    <li> A - x (Cada elemento do vetor A será <b>subtraído</b> pelo valor de x);</li>\n",
    "    <li> A * x (Cada elemento do vetor A será <b>múltiplicado</b> pelo valor de x);</li>\n",
    "    <li> A / x (Cada elemento do vetor A será <b>dividído</b> pelo valor de x);</li>\n",
    "</ul>\n",
    "    <p style=\"background-color: rgb(245,245,245);\">Veja os exemplos abaixo:</p>\n",
    "</p>\n",
    "</html>"
   ]
  },
  {
   "cell_type": "code",
   "execution_count": null,
   "id": "4f10e28c",
   "metadata": {},
   "outputs": [],
   "source": [
    "import numpy as np\n",
    "\n",
    "A = np.array([1,2,3,4,5])\n",
    "B = np.array([6,7,8,9,10])\n",
    "x = 3.14"
   ]
  },
  {
   "cell_type": "code",
   "execution_count": null,
   "id": "8e239176",
   "metadata": {},
   "outputs": [],
   "source": [
    "print(\"A + B =\", A + B)\n",
    "print(\"A - B =\", A - B)\n",
    "print(\"A * B =\", A * B)\n",
    "print(\"A / B =\", A / B)"
   ]
  },
  {
   "cell_type": "code",
   "execution_count": null,
   "id": "8eef1d88",
   "metadata": {},
   "outputs": [],
   "source": [
    "print(\"A + x =\", A + x)\n",
    "print(\"A - x =\", A - x)\n",
    "print(\"A * x =\", A * x)\n",
    "print(\"A / x =\", A / x)"
   ]
  },
  {
   "cell_type": "markdown",
   "id": "6f7dd9b7",
   "metadata": {},
   "source": [
    "### Comando *numpy.linspace()*"
   ]
  },
  {
   "cell_type": "markdown",
   "id": "9256e740",
   "metadata": {},
   "source": [
    "<html>\n",
    "<p style=\"background-color: rgb(245,245,245); padding: 1%\">\n",
    "O <b>linspace()</b> é uma das implementações do Numpy usada para construir vetores semelhante ao comando <b>range()</b>.<br/>\n",
    "O <b>linspace()</b> recebe três argumentos: <i>Valor Inicial</i>, <i>Valor Final</i>, <i>Número de Elementos .</i>\n",
    "O resultado, consequentemente, um vetor com o número de elementos desejado partinto de um valor inicial até um valor final informado pelo programador. <br/>\n",
    "Veja o exemplo abaixo:\n",
    "</p>\n",
    "</html>"
   ]
  },
  {
   "cell_type": "code",
   "execution_count": null,
   "id": "bfeb2f4f",
   "metadata": {},
   "outputs": [],
   "source": [
    "v_inicial = 1 # O primeiro elemento do vetor;\n",
    "v_final = 10 # O último elemento do vetor;\n",
    "n_elementos = 10\n",
    "\n",
    "Vetor = np.linspace(v_inicial, v_final, n_elementos) # ou simplesmente np.linspace(1,10,10)\n",
    "print(\"Nosso vetor usando \\033[1m linspace \\033[0m é: Vetor =\", Vetor)"
   ]
  },
  {
   "cell_type": "markdown",
   "id": "99244b81",
   "metadata": {},
   "source": [
    "### Comando *numpy.arange()*"
   ]
  },
  {
   "cell_type": "markdown",
   "id": "07b809ea",
   "metadata": {},
   "source": [
    "<html>\n",
    "<p style=\"background-color: rgb(245,245,245); padding: 1%\">\n",
    "Semelhante ao <b>linspace()</b> existe a função <b>arange()</b> que também recebe três argumentos, sendo que, desta vez, o último argumento será o valor do intervalo entre um número e o seu vizinho (como no caso do <b>range()</b>):<br/>\n",
    "Veja o exemplo abaixo:\n",
    "</p>\n",
    "</html>"
   ]
  },
  {
   "cell_type": "code",
   "execution_count": null,
   "id": "3a689873",
   "metadata": {},
   "outputs": [],
   "source": [
    "v_inicial = 1\n",
    "v_final = 20 # Nesse caso o último elemento do vetor será menor do que v_final!\n",
    "v_intervalo = 3\n",
    "\n",
    "Vetor = np.arange(v_inicial, v_final, v_intervalo) # ou simplesmente np.arange(1,20,3)\n",
    "print(\"Nosso vetor usando \\033[1m arange \\033[0m é: Vetor =\", Vetor)"
   ]
  },
  {
   "cell_type": "markdown",
   "id": "0b46f782",
   "metadata": {},
   "source": [
    "### Valor Máximo e Mínimo de um Vetor/Lista"
   ]
  },
  {
   "cell_type": "markdown",
   "id": "fea4d769",
   "metadata": {},
   "source": [
    "<html>\n",
    "<p style=\"background-color: rgb(245,245,245); padding: 1%\">\n",
    "O valor máximo e mínimo de um vetor/lista pode ser rápidamente obtido através das funções <b>max()</b> e <b>min()</b>.<br/>\n",
    "Veja o exemplo a seguir:\n",
    "</p>\n",
    "</html>"
   ]
  },
  {
   "cell_type": "code",
   "execution_count": null,
   "id": "3419d7ec",
   "metadata": {},
   "outputs": [],
   "source": [
    "A = [1,2,3,4,5]\n",
    "B = np.linspace(10,15,5)\n",
    "\n",
    "MaxA = max(A) ; MinA = min(A)\n",
    "MaxB = max(B) ; MinB = min(B)\n",
    "\n",
    "print(\"Os valores máximo e mínimo da lista A são: max = %f \\t min = %f\" % (MaxA,MinA))\n",
    "print(\"Os valores máximo e mínimo do vetor B são: max = %f \\t min = %f\" % (MaxB,MinB))"
   ]
  },
  {
   "cell_type": "markdown",
   "id": "224eed54",
   "metadata": {},
   "source": [
    "### Somatório de todos os elementos de um Vetor/Lista"
   ]
  },
  {
   "cell_type": "markdown",
   "id": "6fab43fd",
   "metadata": {},
   "source": [
    "<html>\n",
    "<p style=\"background-color: rgb(245,245,245); padding: 1%\">\n",
    "Dado um vetor ou lista de números inteiros ou reais, também é possível, de uma forma rápido, calcular a soma de todos os elementos do mesmo.<br/>\n",
    "Em simbologia matemática estamos querendo calcular:\n",
    "    $$V = (x_1, x_2, x_3, ..., x_n)$$\n",
    "    $$Soma = \\sum_{i=1}^nx_i$$\n",
    "Em python precisamos apenas chamar a função <b>sum()</b>.\n",
    "</p>\n",
    "</html>"
   ]
  },
  {
   "cell_type": "code",
   "execution_count": null,
   "id": "56f2e721",
   "metadata": {},
   "outputs": [],
   "source": [
    "V = [1,2,3,4]\n",
    "\n",
    "sum1 = 0\n",
    "for i in range(len(V)):\n",
    "    sum1 = sum1 + V[i]\n",
    "\n",
    "print(\"A soma de todos os elementos de V é: Soma =\", sum1)"
   ]
  },
  {
   "cell_type": "markdown",
   "id": "c81ada16",
   "metadata": {},
   "source": [
    "<html>\n",
    "<p style=\"background-color: rgb(245,245,245); padding: 1%\">\n",
    "O trabalho feito acima pode ser extramamente simplicado usando a função <b>sum()</b>.\n",
    "</p>\n",
    "</html>"
   ]
  },
  {
   "cell_type": "code",
   "execution_count": null,
   "id": "acdcad9b",
   "metadata": {},
   "outputs": [],
   "source": [
    "sum2 = sum(V)\n",
    "print(\"A soma de todos os elementos de V é: Soma =\", sum2)"
   ]
  },
  {
   "cell_type": "markdown",
   "id": "3dac932d",
   "metadata": {},
   "source": [
    "### 2.2.2 Matrizes"
   ]
  },
  {
   "cell_type": "markdown",
   "id": "b4370677",
   "metadata": {},
   "source": [
    "<html>\n",
    "<p style=\"background-color: rgb(245,245,245); padding: 1%\">\n",
    "Matrizes são representadas por vetores de vetores (ou lista de lista), ou seja, cada elemento de um vetor/lista é um outro vetor/lista.<br/>\n",
    "Em termos de listas temos algo como: M = [ [1,2,3], [4,5,6], [7,8,9] ].<br/>\n",
    "Aqui temos um vetor com três elementos, sendo que cada um desses elementos é um outro vetor de três elementos.<br/>\n",
    "O primeiro elemento do vetor M é o vetor [1,2,3], o sengundo [4,5,6], e o terceiro [7,8,9].<br/><br/>\n",
    "Semelhante aos vetores/listas, podemos acessar um determinado elemento do mesmo através do par de colchetes []<br/>\n",
    "O primeiro elemento da Matriz M é o vetor [1,2,3].\n",
    "</p>\n",
    "</html>"
   ]
  },
  {
   "cell_type": "code",
   "execution_count": null,
   "id": "be5b1e96",
   "metadata": {},
   "outputs": [],
   "source": [
    "M = [[1,2,3], [4,5,6], [7,8,9]]\n",
    "print(\"M[0] =\",M[0])"
   ]
  },
  {
   "cell_type": "code",
   "execution_count": null,
   "id": "c822652c",
   "metadata": {},
   "outputs": [],
   "source": [
    "print(\"M[1] =\",M[1])"
   ]
  },
  {
   "cell_type": "code",
   "execution_count": null,
   "id": "3f88db15",
   "metadata": {},
   "outputs": [],
   "source": [
    "print(\"M[2] =\",M[2])"
   ]
  },
  {
   "cell_type": "markdown",
   "id": "03badc0e",
   "metadata": {},
   "source": [
    "<html>\n",
    "<p style=\"background-color: rgb(245,245,245); padding: 1%\">\n",
    "Como cada elemento da nossa matriz é um vetor/lista podemos acessar o elemento desse vetor/lista interno usando mais um par de colchetes []:\n",
    "</p>\n",
    "</html>"
   ]
  },
  {
   "cell_type": "code",
   "execution_count": null,
   "id": "14b9d763",
   "metadata": {},
   "outputs": [],
   "source": [
    "print(\"M[0][0] =\",M[0][0])\n",
    "print(\"M[0][1] =\",M[0][1])\n",
    "print(\"M[0][2] =\",M[0][2])"
   ]
  },
  {
   "cell_type": "code",
   "execution_count": null,
   "id": "aaca396b",
   "metadata": {},
   "outputs": [],
   "source": [
    "print(\"M[1][0] =\",M[1][0])\n",
    "print(\"M[1][1] =\",M[1][1])\n",
    "print(\"M[1][2] =\",M[1][2])"
   ]
  },
  {
   "cell_type": "code",
   "execution_count": null,
   "id": "d38d505a",
   "metadata": {},
   "outputs": [],
   "source": [
    "print(\"M[2][0] =\",M[2][0])\n",
    "print(\"M[2][1] =\",M[2][1])\n",
    "print(\"M[2][2] =\",M[2][2])"
   ]
  },
  {
   "cell_type": "markdown",
   "id": "f735eb24",
   "metadata": {},
   "source": [
    "<html>\n",
    "<p style=\"background-color: rgb(245,245,245); padding: 1%\">\n",
    "Em notação Matricial temos:\n",
    "$$ M = \\begin{pmatrix}\n",
    "    M_{00} & M_{01} & M_{02} \\\\\n",
    "    M_{10} & M_{11} & M_{12} \\\\\n",
    "    M_{20} & M_{21} & M_{22}\n",
    "\\end{pmatrix} = \n",
    "\\begin{pmatrix}\n",
    "    1 & 2 & 3 \\\\\n",
    "    4 & 5 & 6 \\\\\n",
    "    7 & 8 & 9 \n",
    "\\end{pmatrix}$$\n",
    "</p>\n",
    "</html>"
   ]
  },
  {
   "cell_type": "markdown",
   "id": "35e6f4c1",
   "metadata": {},
   "source": [
    "## 2.2.3 Funções matemáticas com o Numpy"
   ]
  },
  {
   "cell_type": "markdown",
   "id": "a494f6b2",
   "metadata": {},
   "source": [
    "<html>\n",
    "<p style=\"background-color: rgb(245,245,245); padding: 1%\">\n",
    "Com a biblioteca <b>Numpy</b> podemos utilizar várias funções matemáticas comuns no uso cotidiano das áres extas.<br/> vamos listar abaixo as funções mais comuns (em python, essas funções podem receber tanto números inteiros/reais como também vetores e matrizes):\n",
    "</p>\n",
    "</html>"
   ]
  },
  {
   "cell_type": "markdown",
   "id": "6bb31bf7",
   "metadata": {},
   "source": [
    "<html>\n",
    "<table style=\"width:50%\">\n",
    "<tr>\n",
    "    <th><h2>Comandos</h2></th>\n",
    "    <th><h2>Significado</h2></th>\n",
    "</tr><tr>\n",
    "    <th>pow(x,n) ou x**n</th>\n",
    "    <th>$x^n$</th>\n",
    "</tr><tr>\n",
    "    <th>numpy.exp(x)</th>\n",
    "    <th>$e^x$</th>\n",
    "</tr><tr>\n",
    "    <th>numpy.log(x)</th>\n",
    "    <th>$ln|x|$</th>\n",
    "</tr><tr>\n",
    "    <th>numpy.log10(x)</th>\n",
    "    <th>$log_{10}(x)$</th>\n",
    "</tr><tr>\n",
    "    <th>numpy.sqrt(x)</th>\n",
    "    <th>$\\sqrt{x}$</th>\n",
    "</tr><tr>\n",
    "    <th>numpy.sin(x)</th>\n",
    "    <th>$sin(x)$</th>\n",
    "</tr>\n",
    "    <tr>\n",
    "    <th>numpy.cos(x)</th>\n",
    "    <th>$cos(x)$</th>\n",
    "</tr><tr>\n",
    "    <th>numpy.tan(x)</th>\n",
    "    <th>$tan(x)$</th>\n",
    "</tr><tr>\n",
    "    <th>numpy.asin(x)</th>\n",
    "    <th>$arcsin(x)$</th>\n",
    "</tr><tr>\n",
    "    <th>numpy.acos(x)</th>\n",
    "    <th>$arccos(x)$</th>\n",
    "</tr><tr>\n",
    "    <th>numpy.atan(x)</th>\n",
    "    <th>$arctan(x)$</th>\n",
    "</tr><tr>\n",
    "    <th>numpy.sinh(x)</th>\n",
    "    <th>$sinh(x)$</th>\n",
    "</tr><tr>\n",
    "    <th>numpy.cosh(x)</th>\n",
    "    <th>$cosh(x)$</th>\n",
    "</tr><tr>\n",
    "    <th>numpy.tanh(x)</th>\n",
    "    <th>$tanh(x)$</th>\n",
    "</tr>\n",
    "</table>\n",
    "</html>"
   ]
  }
 ],
 "metadata": {
  "kernelspec": {
   "display_name": "Python 3",
   "language": "python",
   "name": "python3"
  },
  "language_info": {
   "codemirror_mode": {
    "name": "ipython",
    "version": 3
   },
   "file_extension": ".py",
   "mimetype": "text/x-python",
   "name": "python",
   "nbconvert_exporter": "python",
   "pygments_lexer": "ipython3",
   "version": "3.8.6"
  }
 },
 "nbformat": 4,
 "nbformat_minor": 5
}
