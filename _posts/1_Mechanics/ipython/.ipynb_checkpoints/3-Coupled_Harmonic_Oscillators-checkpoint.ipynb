{
 "cells": [
  {
   "cell_type": "code",
   "execution_count": 1,
   "id": "493ba6a3-d4f8-460c-b4ad-6177851dda87",
   "metadata": {},
   "outputs": [],
   "source": [
    "import numpy as np\n",
    "import matplotlib.pyplot as plt\n",
    "\n",
    "N = 10000\n",
    "t = np.linspace(0,50,N)\n",
    "h = t[1] - t[0]\n"
   ]
  },
  {
   "cell_type": "code",
   "execution_count": 2,
   "id": "0b5f6dd1-1d12-4bcd-804c-a022ab91c3d8",
   "metadata": {},
   "outputs": [],
   "source": [
    "def func(X):\n",
    "\tX1, X2, Vx1, Vx2 = X\n",
    "\tdx1 = Vx1\n",
    "\tdx2 = Vx2\n",
    "\t\n",
    "\tdiff_x1 = X1-L\n",
    "\tdiff_x2 = (X2-X1)-L\n",
    "\tdiff_x3 = 3*L-X2 \n",
    "\t\n",
    "\tw = np.sqrt(k/m)\n",
    "\tdvx1 = -w**2*diff_x1 + w**2*diff_x2\n",
    "\tdvx2 = -w**2*diff_x2 + w**2*diff_x3\n",
    "\t\n",
    "\treturn np.array([dx1, dx2, dvx1, dvx2])"
   ]
  },
  {
   "cell_type": "code",
   "execution_count": 3,
   "id": "e3543926-8350-49b1-b6b6-1b258b499fb6",
   "metadata": {},
   "outputs": [],
   "source": [
    "def RK4(X,h):\n",
    "\tX  = np.array(X)\n",
    "\tK1 = h*func(X)\n",
    "\tK2 = h*func(X+K1/2)\n",
    "\tK3 = h*func(X+K2/2)\n",
    "\tK4 = h*func(X+K3)\n",
    "\t\n",
    "\treturn X + (K1+2*K2+2*K3+K4)/6"
   ]
  },
  {
   "cell_type": "code",
   "execution_count": 4,
   "id": "ebbc443f-c953-4379-9fe5-587053434247",
   "metadata": {},
   "outputs": [],
   "source": [
    "x1  = np.zeros(N)\n",
    "x2  = np.zeros(N)\n",
    "vx1 = np.zeros(N)\n",
    "vx2 = np.zeros(N)\n",
    "\n",
    "k = 4.\n",
    "m = 1.\n",
    "L = 1.\n",
    "x1[0]  = L*1.2\n",
    "x2[0]  = x1[0] + 0.5*L\n",
    "vx1[0] = 0\n",
    "vx2[0] = 0"
   ]
  },
  {
   "cell_type": "code",
   "execution_count": null,
   "id": "f67b22b7-ced7-45a9-922a-e0ffd81f9067",
   "metadata": {},
   "outputs": [],
   "source": [
    "for i in range(1,N):\t\n",
    "\tX0 = x1[i-1], x2[i-1], vx1[i-1], vx2[i-1]\n",
    "\tx1[i], x2[i], vx1[i], vx2[i] = RK4(X0,h)"
   ]
  },
  {
   "cell_type": "code",
   "execution_count": null,
   "id": "788d6bed-d8e3-4479-8e60-03acd4a3d787",
   "metadata": {},
   "outputs": [],
   "source": [
    "from scipy.integrate import odeint\n",
    "\n",
    "def func2(X,t):\n",
    "\treturn func(X)"
   ]
  },
  {
   "cell_type": "code",
   "execution_count": null,
   "id": "16d09727-a4b6-4c87-bb19-a3f0f1557d51",
   "metadata": {},
   "outputs": [],
   "source": [
    "x0 = [x1[0],x2[0],vx1[0],vx2[0]]\n",
    "sol = odeint(func2,x0,t)\n",
    "X1 = sol[:,0]\n",
    "X2 = sol[:,1]"
   ]
  },
  {
   "cell_type": "code",
   "execution_count": null,
   "id": "ce7df588-0e33-425f-9d19-903bdfbf97d3",
   "metadata": {},
   "outputs": [],
   "source": [
    "fig = plt.figure()\n",
    "\n",
    "l1 = np.zeros(N)\n",
    "l2 = np.ones(N)*L\n",
    "l3 = np.ones(N)*2*L\n",
    "l4 = np.ones(N)*3*L"
   ]
  },
  {
   "cell_type": "code",
   "execution_count": null,
   "id": "bbf84138-09d4-488e-b1a5-ca4249756230",
   "metadata": {},
   "outputs": [],
   "source": [
    "plt.plot(t,x1,'r-',label='mass1')\n",
    "plt.plot(t,x2,'b-',label='mass2')\n",
    "plt.plot(t,X1,'r:',lw=3,label='mass1 [odeint]')\n",
    "plt.plot(t,X2,'b:',lw=3,label='mass2 [odeint]')\n",
    "\n",
    "\n",
    "plt.plot(t,l1,'k--')\n",
    "plt.plot(t,l2,'k--')\n",
    "plt.plot(t,l3,'k--')\n",
    "plt.plot(t,l4,'k--')\n",
    "\n",
    "plt.grid() ; plt.legend()\n",
    "plt.xlabel('time [sec]')\n",
    "plt.ylabel('x [meters]')\n",
    "\n",
    "plt.show()"
   ]
  }
 ],
 "metadata": {
  "kernelspec": {
   "display_name": "Python 3",
   "language": "python",
   "name": "python3"
  },
  "language_info": {
   "codemirror_mode": {
    "name": "ipython",
    "version": 3
   },
   "file_extension": ".py",
   "mimetype": "text/x-python",
   "name": "python",
   "nbconvert_exporter": "python",
   "pygments_lexer": "ipython3",
   "version": "3.8.5"
  }
 },
 "nbformat": 4,
 "nbformat_minor": 5
}
